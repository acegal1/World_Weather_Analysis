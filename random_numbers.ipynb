{
 "cells": [
  {
   "cell_type": "code",
   "execution_count": 2,
   "id": "2b46cc71",
   "metadata": {},
   "outputs": [
    {
     "data": {
      "text/plain": [
       "-80"
      ]
     },
     "execution_count": 2,
     "metadata": {},
     "output_type": "execute_result"
    }
   ],
   "source": [
    "# Import the random module.\n",
    "import random\n",
    "random.randint(-90,90)"
   ]
  },
  {
   "cell_type": "code",
   "execution_count": 3,
   "id": "720e7c11",
   "metadata": {},
   "outputs": [
    {
     "data": {
      "text/plain": [
       "0.8329300835681729"
      ]
     },
     "execution_count": 3,
     "metadata": {},
     "output_type": "execute_result"
    }
   ],
   "source": [
    "random.random()"
   ]
  },
  {
   "cell_type": "code",
   "execution_count": 6,
   "id": "d6a5121b",
   "metadata": {},
   "outputs": [
    {
     "name": "stdout",
     "output_type": "stream",
     "text": [
      "[-8.739698312247663]\n",
      "[-8.739698312247663, -30.783492491098126]\n",
      "[-8.739698312247663, -30.783492491098126, -51.40201494087071]\n",
      "[-8.739698312247663, -30.783492491098126, -51.40201494087071, 87.67818212980522]\n",
      "[-8.739698312247663, -30.783492491098126, -51.40201494087071, 87.67818212980522, 26.925516986326244]\n",
      "[-8.739698312247663, -30.783492491098126, -51.40201494087071, 87.67818212980522, 26.925516986326244, -69.69106817616094]\n",
      "[-8.739698312247663, -30.783492491098126, -51.40201494087071, 87.67818212980522, 26.925516986326244, -69.69106817616094, 38.216958477547834]\n",
      "[-8.739698312247663, -30.783492491098126, -51.40201494087071, 87.67818212980522, 26.925516986326244, -69.69106817616094, 38.216958477547834, 29.82924193881032]\n",
      "[-8.739698312247663, -30.783492491098126, -51.40201494087071, 87.67818212980522, 26.925516986326244, -69.69106817616094, 38.216958477547834, 29.82924193881032, 21.535378643684187]\n",
      "[-8.739698312247663, -30.783492491098126, -51.40201494087071, 87.67818212980522, 26.925516986326244, -69.69106817616094, 38.216958477547834, 29.82924193881032, 21.535378643684187, -29.531880745896522]\n"
     ]
    }
   ],
   "source": [
    "x = 1\n",
    "latitudes = []\n",
    "while x < 11:\n",
    "    random_lat = random.randint(-90, 89) + random.random()\n",
    "    latitudes.append(random_lat)\n",
    "    x += 1\n",
    "    print(latitudes)"
   ]
  },
  {
   "cell_type": "code",
   "execution_count": 9,
   "id": "911c181c",
   "metadata": {},
   "outputs": [
    {
     "data": {
      "text/plain": [
       "60"
      ]
     },
     "execution_count": 9,
     "metadata": {},
     "output_type": "execute_result"
    }
   ],
   "source": [
    "#If you don't add the step parameter, the output will be a number with an increment of 1,\n",
    "#which is the default integer value\n",
    "random.randrange(-90, 90, step=1)"
   ]
  },
  {
   "cell_type": "code",
   "execution_count": 10,
   "id": "e1191208",
   "metadata": {},
   "outputs": [
    {
     "data": {
      "text/plain": [
       "9"
      ]
     },
     "execution_count": 10,
     "metadata": {},
     "output_type": "execute_result"
    }
   ],
   "source": [
    "random.randrange(-90, 90, step=3)\n"
   ]
  },
  {
   "cell_type": "code",
   "execution_count": 11,
   "id": "55ec8b0b",
   "metadata": {},
   "outputs": [
    {
     "data": {
      "text/plain": [
       "-25.387059207578005"
      ]
     },
     "execution_count": 11,
     "metadata": {},
     "output_type": "execute_result"
    }
   ],
   "source": [
    "#The uniform() function will allow us to generate a floating-point decimal number between two given numbers\n",
    "# inside the parentheses.\n",
    "random.uniform(-90, 90)"
   ]
  },
  {
   "cell_type": "code",
   "execution_count": 13,
   "id": "5bafa808",
   "metadata": {},
   "outputs": [],
   "source": [
    "# Import the NumPy module.built-in random module to help generate 1500 latitudes and longitudes\n",
    "import numpy as np"
   ]
  },
  {
   "cell_type": "code",
   "execution_count": 14,
   "id": "74b43025",
   "metadata": {},
   "outputs": [
    {
     "data": {
      "text/plain": [
       "-17.441072163680047"
      ]
     },
     "execution_count": 14,
     "metadata": {},
     "output_type": "execute_result"
    }
   ],
   "source": [
    "np.random.uniform(-90.000, 90.000)\n"
   ]
  },
  {
   "cell_type": "code",
   "execution_count": null,
   "id": "5ab7e78a",
   "metadata": {},
   "outputs": [],
   "source": [
    "#another way to write \n",
    "#np.random.uniform(low=-90, high=90)"
   ]
  },
  {
   "cell_type": "code",
   "execution_count": 15,
   "id": "2c285ff5",
   "metadata": {},
   "outputs": [
    {
     "data": {
      "text/plain": [
       "array([-75.39537003, -89.95398428, -76.84879806, -37.47346966,\n",
       "        54.89314582, -12.88938376, -19.32417423, -72.87293343,\n",
       "       -39.90324508,  88.28654784, -55.05864631,  10.74373532,\n",
       "        39.65587819, -47.02568577,  75.99719279,  23.77484933,\n",
       "       -77.31519423, -78.62208389, -82.83318345,  45.01131692,\n",
       "       -80.53767281,  55.420025  ,   2.05414492,   0.40501838,\n",
       "        33.92399321,  11.01351042,  47.89664133, -57.18373783,\n",
       "        38.46678181,  15.27588779, -41.73465104,  -4.18188735,\n",
       "       -83.40988325,   1.14060278,  27.78299515,  71.47186544,\n",
       "        57.68206585, -57.24244008, -89.57472118,  24.30954364,\n",
       "       -33.40762021, -76.62363693,   8.42882396, -80.97126256,\n",
       "        -8.28618409, -53.2709327 ,  18.85648163,  75.62910649,\n",
       "       -48.50649481, -61.58243904])"
      ]
     },
     "execution_count": 15,
     "metadata": {},
     "output_type": "execute_result"
    }
   ],
   "source": [
    "#\n",
    "np.random.uniform(-90.000, 90.000, size=50)"
   ]
  },
  {
   "cell_type": "code",
   "execution_count": 18,
   "id": "09787c08",
   "metadata": {},
   "outputs": [],
   "source": [
    "# Import timeit module To test how long a piece of code or function takes to run\n",
    "import timeit"
   ]
  },
  {
   "cell_type": "code",
   "execution_count": 19,
   "id": "ec6a9c46",
   "metadata": {},
   "outputs": [
    {
     "name": "stdout",
     "output_type": "stream",
     "text": [
      "17.2 µs ± 3.92 µs per loop (mean ± std. dev. of 7 runs, 10,000 loops each)\n"
     ]
    }
   ],
   "source": [
    "#\n",
    "%timeit np.random.uniform(-90.000, 90.000, size=1500)"
   ]
  },
  {
   "cell_type": "code",
   "execution_count": 20,
   "id": "4e96a990",
   "metadata": {},
   "outputs": [
    {
     "name": "stdout",
     "output_type": "stream",
     "text": [
      "2.06 ms ± 19.7 µs per loop (mean ± std. dev. of 7 runs, 100 loops each)\n"
     ]
    }
   ],
   "source": [
    "def latitudes(size):\n",
    "    latitudes = []\n",
    "     x = 0\n",
    "    while x < (size):\n",
    "        random_lat = random.randint(-90, 90) + random.random()\n",
    "        latitudes.append(random_lat)\n",
    "        x += 1\n",
    "    return latitudes\n",
    "# Call the function with 1500.\n",
    "%timeit latitudes(1500)"
   ]
  },
  {
   "cell_type": "code",
   "execution_count": 24,
   "id": "d7025941",
   "metadata": {},
   "outputs": [
    {
     "name": "stdout",
     "output_type": "stream",
     "text": [
      "2.09 ms ± 40.7 µs per loop (mean ± std. dev. of 7 runs, 100 loops each)\n"
     ]
    }
   ],
   "source": [
    "def longitudes(size):\n",
    "    longitudes = []\n",
    "    x = 0\n",
    "    while x < (size):\n",
    "        random_long = random.randint(-90, 90) + random.random()\n",
    "        longitudes.append(random_long)\n",
    "        x += 1\n",
    "    return longitudes\n",
    "# Call the function with 1500.\n",
    "%timeit longitudes(1500)"
   ]
  },
  {
   "cell_type": "code",
   "execution_count": null,
   "id": "04a88db8",
   "metadata": {},
   "outputs": [],
   "source": []
  }
 ],
 "metadata": {
  "kernelspec": {
   "display_name": "PythonData",
   "language": "python",
   "name": "pythondata"
  },
  "language_info": {
   "codemirror_mode": {
    "name": "ipython",
    "version": 3
   },
   "file_extension": ".py",
   "mimetype": "text/x-python",
   "name": "python",
   "nbconvert_exporter": "python",
   "pygments_lexer": "ipython3",
   "version": "3.9.12"
  }
 },
 "nbformat": 4,
 "nbformat_minor": 5
}
